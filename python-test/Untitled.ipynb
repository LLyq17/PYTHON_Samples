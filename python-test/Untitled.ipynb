{
 "cells": [
  {
   "cell_type": "code",
   "execution_count": 1,
   "metadata": {},
   "outputs": [],
   "source": [
    "from __future__ import print_function\n",
    "from ipywidgets import interact, interactive, fixed, interact_manual\n",
    "import ipywidgets as widgets\n",
    "from goofit import *\n",
    "import matplotlib.pyplot as plt\n",
    "import numpy as np\n",
    "import goofit as gf\n",
    "import sys\n",
    "%matplotlib inline\n"
   ]
  },
  {
   "cell_type": "code",
   "execution_count": 2,
   "metadata": {},
   "outputs": [
    {
     "data": {
      "image/png": "[encoded data removed]",
      "text/plain": [
       "<Figure size 432x288 with 1 Axes>"
      ]
     },
     "metadata": {
      "needs_background": "light"
     },
     "output_type": "display_data"
    }
   ],
   "source": [
    "fig,ax = plt.subplots(figsize=(6,4))"
   ]
  },
  {
   "cell_type": "code",
   "execution_count": 3,
   "metadata": {},
   "outputs": [],
   "source": [
    "_mD0       = 1.86484\n",
    "_mD02      = _mD0 * _mD0\n",
    "_mD02inv   = 1. / _mD02\n",
    "piPlusMass = 0.13957018\n",
    "piZeroMass = 0.1349766\n",
    "\n",
    "m12 = Observable(\"m12\", 0, 3)\n",
    "m13 = Observable(\"m13\", 0, 3)\n",
    "m12.numbins = 240\n",
    "m13.numbins = 240\n",
    "eventNumber = EventNumber(\"eventNumber\")\n",
    "\n",
    "\n",
    "mass1 = Variable(\"m1\", 1.08, 0.01, 0.1, 2.7)\n",
    "width1 = Variable(\"w1\", 0.01, 0.01, 0.0001, 0.2)\n",
    "mass2 = Variable(\"m2\", 0.8, 0.01, 0.1, 2.7)\n",
    "width2 = Variable(\"w2\", 0.15, 0.01, 0.0001, 0.2)\n",
    "ar1=Variable(\"ar1\", 0.565, 0.001, 0, 0)\n",
    "ai1=Variable(\"ai1\", 0.565, 0.001, 0, 0)\n",
    "ar2=Variable(\"ar2\", 0.565, 0.001, 0, 0)\n",
    "ai2=Variable(\"ai2\", 0.565, 0.001, 0, 0)\n",
    "def makeSignalPdf(m12, m13, eventNumber, eff = None, fitMasses = False):\n",
    "\n",
    "    constantOne  = Variable(\"constantOne\", 1)\n",
    "    constantZero = Variable(\"constantZero\", 0)\n",
    "\n",
    "\n",
    "    dtop0pp = DecayInfo3()\n",
    "    dtop0pp.motherMass   = _mD0\n",
    "    dtop0pp.daug1Mass    = piZeroMass\n",
    "    dtop0pp.daug2Mass    = piPlusMass\n",
    "    dtop0pp.daug3Mass    = piPlusMass\n",
    "    dtop0pp.meson_radius = 1.5\n",
    "\n",
    "\n",
    "\n",
    "\n",
    "    rho1 = Resonances.RBW(\"rhom\",\n",
    "                        ar1,\n",
    "                        ai1,\n",
    "                        mass1,\n",
    "                        width1,\n",
    "                        1,\n",
    "                        PAIR_12)\n",
    "\n",
    "    rho2 = Resonances.RBW(\"rho0\",\n",
    "                        ar2,\n",
    "                        ai2,\n",
    "                        mass2,\n",
    "                        width2,\n",
    "                        1,\n",
    "                        PAIR_13)\n",
    "\n",
    "    dtop0pp.resonances = (rho1,rho2)\n",
    "\n",
    "    if not fitMasses:\n",
    "        for res in dtop0pp.resonances:\n",
    "            res.setParameterConstantness(False)\n",
    "\n",
    "    if not eff:\n",
    "# By default create a constant efficiency.\n",
    "        observables = (m12,m13,)\n",
    "        offsets = (constantZero,constantZero,)\n",
    "        coefficients = (constantOne,)\n",
    "        eff = PolynomialPdf(\"constantEff\", observables, coefficients, offsets, 0)\n",
    "\n",
    "    d = Amp3Body(\"signalPDF\", m12, m13, eventNumber, dtop0pp, eff)\n",
    "    return d\n"
   ]
  },
  {
   "cell_type": "code",
   "execution_count": 4,
   "metadata": {},
   "outputs": [],
   "source": [
    "def f(a,b,m1,w1,m2,w2):\n",
    "    ar1.value=np.cos(a)\n",
    "    ai1.value=np.sin(a)\n",
    "    ar2.value=np.cos(b)\n",
    "    ai2.value=np.sin(b)\n",
    "    mass1.value=m1\n",
    "    width1.value=w1\n",
    "    mass2.value=m2\n",
    "    width2.value=w2\n",
    "\n",
    "    signal =makeSignalPdf(m12,m13,eventNumber)\n",
    "    prodpdf=ProdPdf(\"prodpdf\",[signal])\n",
    "    dplt=gf.DalitzPlotter(prodpdf,signal)\n",
    "\n",
    "    arr=dplt.make2D()\n",
    "    extent = dplt.getExtent()\n",
    "    arr=np.ma.array(arr,mask=arr==0)\n",
    "    ax.clear()\n",
    "    plt.imshow(arr,extent=extent,origin='lower')\n",
    "    plt.colorbar(cax=None,ax=None,shrink=0.5)\n",
    "\n",
    "    plt.savefig('RBW_pdf_plot.png')\n",
    "    plt.show()\n",
    "    return(a,b,m1,w1,m2,w2)\n",
    "\n"
   ]
  },
  {
   "cell_type": "code",
   "execution_count": 5,
   "metadata": {},
   "outputs": [
    {
     "data": {
      "application/vnd.jupyter.widget-view+json": {
       "model_id": "2531d139962241d9b35b7a2e6e63f795",
       "version_major": 2,
       "version_minor": 0
      },
      "text/plain": [
       "aW50ZXJhY3RpdmUoY2hpbGRyZW49KEZsb2F0U2xpZGVyKHZhbHVlPTMuMCwgZGVzY3JpcHRpb249dSdhJywgbWF4PTkuMCwgbWluPS0zLjApLCBGbG9hdFNsaWRlcih2YWx1ZT0zLjAsIGRlc2PigKY=\n"
      ]
     },
     "metadata": {},
     "output_type": "display_data"
    }
   ],
   "source": [
    "interact(f,a=3.0,b=3.0,m1=3.0,w1=0.5,m2=3.0,w2=0.5);"
   ]
  },
  {
   "cell_type": "code",
   "execution_count": null,
   "metadata": {},
   "outputs": [],
   "source": []
  },
  {
   "cell_type": "code",
   "execution_count": null,
   "metadata": {},
   "outputs": [],
   "source": []
  },
  {
   "cell_type": "code",
   "execution_count": null,
   "metadata": {},
   "outputs": [],
   "source": []
  },
  {
   "cell_type": "code",
   "execution_count": null,
   "metadata": {},
   "outputs": [],
   "source": []
  },
  {
   "cell_type": "code",
   "execution_count": null,
   "metadata": {},
   "outputs": [],
   "source": []
  },
  {
   "cell_type": "code",
   "execution_count": null,
   "metadata": {},
   "outputs": [],
   "source": []
  },
  {
   "cell_type": "code",
   "execution_count": null,
   "metadata": {},
   "outputs": [],
   "source": []
  }
 ],
 "metadata": {
  "kernelspec": {
   "display_name": "Python 2",
   "language": "python",
   "name": "python2"
  },
  "language_info": {
   "codemirror_mode": {
    "name": "ipython",
    "version": 2
   },
   "file_extension": ".py",
   "mimetype": "text/x-python",
   "name": "python",
   "nbconvert_exporter": "python",
   "pygments_lexer": "ipython2",
   "version": "2.7.16"
  }
 },
 "nbformat": 4,
 "nbformat_minor": 2
}
